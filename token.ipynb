{
 "cells": [
  {
   "cell_type": "code",
   "execution_count": 2,
   "metadata": {},
   "outputs": [
    {
     "name": "stdout",
     "output_type": "stream",
     "text": [
      "' se' con probabilidad 0.0671\n",
      "' es' con probabilidad 0.0411\n",
      "' el' con probabilidad 0.0388\n",
      "' est' con probabilidad 0.0262\n",
      "' so' con probabilidad 0.0232\n"
     ]
    }
   ],
   "source": [
    "from transformers import GPT2Tokenizer, GPT2LMHeadModel\n",
    "import torch\n",
    "\n",
    "\n",
    "\n",
    "tokenizer = GPT2Tokenizer.from_pretrained(\"gpt2\")\n",
    "model = GPT2LMHeadModel.from_pretrained(\"gpt2\")\n",
    "model.eval()\n",
    "\n",
    "\n",
    "prompt = \"Hola, ¿que\"\n",
    "input_ids = tokenizer.encode(prompt, return_tensors=\"pt\")\n",
    "\n",
    "with torch.no_grad():\n",
    "    outputs = model(input_ids)\n",
    "    logits = outputs.logits  # Predicciones crudas (logits)\n",
    "\n",
    "next_token_logits = logits[0, -1, :]  # Última palabra → distribución de probabilidad\n",
    "probabilidades = torch.softmax(next_token_logits, dim=-1)  # Convertimos a probabilidades\n",
    "top_probs, top_indices = torch.topk(probabilidades, k=5)  # Top 5 opciones\n",
    "\n",
    "# 6. Mostrar los tokens más probables\n",
    "for prob, idx in zip(top_probs, top_indices):\n",
    "    palabra = tokenizer.decode(idx.item())\n",
    "    print(f\"'{palabra}' con probabilidad {prob.item():.4f}\")\n"
   ]
  }
 ],
 "metadata": {
  "kernelspec": {
   "display_name": "Python 3",
   "language": "python",
   "name": "python3"
  },
  "language_info": {
   "codemirror_mode": {
    "name": "ipython",
    "version": 3
   },
   "file_extension": ".py",
   "mimetype": "text/x-python",
   "name": "python",
   "nbconvert_exporter": "python",
   "pygments_lexer": "ipython3",
   "version": "3.11.9"
  }
 },
 "nbformat": 4,
 "nbformat_minor": 2
}
